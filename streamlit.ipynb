{
 "cells": [
  {
   "cell_type": "code",
   "execution_count": 2,
   "id": "a090a373-85b1-447a-aa9e-e3095dff31e8",
   "metadata": {},
   "outputs": [
    {
     "name": "stdout",
     "output_type": "stream",
     "text": [
      "scikit-learn version: 1.3.2\n",
      "NLTK version: 3.8.1\n"
     ]
    }
   ],
   "source": [
    "import sklearn\n",
    "import nltk\n",
    "\n",
    "print(\"scikit-learn version:\", sklearn.__version__)\n",
    "print(\"NLTK version:\", nltk.__version__)\n"
   ]
  },
  {
   "cell_type": "code",
   "execution_count": null,
   "id": "21481b3b-8023-43c7-bfe6-e3ded5a66abf",
   "metadata": {},
   "outputs": [],
   "source": [
    "import subprocess\n",
    "\n",
    "# Specify the Streamlit app file name or full path\n",
    "app_file = 'u.py'\n",
    "\n",
    "# Run the Streamlit app command\n",
    "subprocess.run(['streamlit', 'run', app_file], check=True)\n"
   ]
  },
  {
   "cell_type": "code",
   "execution_count": null,
   "id": "74130759-8d4d-4250-822b-058ea808ea4e",
   "metadata": {},
   "outputs": [],
   "source": []
  },
  {
   "cell_type": "code",
   "execution_count": null,
   "id": "482527d9-5200-4246-8b6d-2d737a910160",
   "metadata": {},
   "outputs": [],
   "source": []
  }
 ],
 "metadata": {
  "kernelspec": {
   "display_name": "Python 3 (ipykernel)",
   "language": "python",
   "name": "python3"
  },
  "language_info": {
   "codemirror_mode": {
    "name": "ipython",
    "version": 3
   },
   "file_extension": ".py",
   "mimetype": "text/x-python",
   "name": "python",
   "nbconvert_exporter": "python",
   "pygments_lexer": "ipython3",
   "version": "3.11.5"
  }
 },
 "nbformat": 4,
 "nbformat_minor": 5
}
