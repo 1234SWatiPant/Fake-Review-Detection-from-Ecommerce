{
 "cells": [
  {
   "cell_type": "code",
   "execution_count": 20,
   "id": "9b46e27d-7e79-4039-90e4-2cd263f7f34d",
   "metadata": {},
   "outputs": [
    {
     "name": "stdout",
     "output_type": "stream",
     "text": [
      "Defaulting to user installation because normal site-packages is not writeable\n",
      "Requirement already satisfied: wordcloud in c:\\users\\dheeraj\\appdata\\roaming\\python\\python311\\site-packages (1.9.2)\n",
      "Requirement already satisfied: numpy>=1.6.1 in c:\\users\\dheeraj\\appdata\\roaming\\python\\python311\\site-packages (from wordcloud) (1.23.5)\n",
      "Requirement already satisfied: pillow in c:\\users\\dheeraj\\appdata\\roaming\\python\\python311\\site-packages (from wordcloud) (9.5.0)\n",
      "Requirement already satisfied: matplotlib in c:\\users\\dheeraj\\appdata\\roaming\\python\\python311\\site-packages (from wordcloud) (3.7.1)\n",
      "Requirement already satisfied: contourpy>=1.0.1 in c:\\users\\dheeraj\\appdata\\roaming\\python\\python311\\site-packages (from matplotlib->wordcloud) (1.0.7)\n",
      "Requirement already satisfied: cycler>=0.10 in c:\\users\\dheeraj\\appdata\\roaming\\python\\python311\\site-packages (from matplotlib->wordcloud) (0.11.0)\n",
      "Requirement already satisfied: fonttools>=4.22.0 in c:\\users\\dheeraj\\appdata\\roaming\\python\\python311\\site-packages (from matplotlib->wordcloud) (4.39.4)\n",
      "Requirement already satisfied: kiwisolver>=1.0.1 in c:\\users\\dheeraj\\appdata\\roaming\\python\\python311\\site-packages (from matplotlib->wordcloud) (1.4.4)\n",
      "Requirement already satisfied: packaging>=20.0 in c:\\users\\dheeraj\\appdata\\roaming\\python\\python311\\site-packages (from matplotlib->wordcloud) (23.1)\n",
      "Requirement already satisfied: pyparsing>=2.3.1 in c:\\users\\dheeraj\\appdata\\roaming\\python\\python311\\site-packages (from matplotlib->wordcloud) (3.0.9)\n",
      "Requirement already satisfied: python-dateutil>=2.7 in c:\\users\\dheeraj\\appdata\\roaming\\python\\python311\\site-packages (from matplotlib->wordcloud) (2.8.2)\n",
      "Requirement already satisfied: six>=1.5 in c:\\users\\dheeraj\\appdata\\roaming\\python\\python311\\site-packages (from python-dateutil>=2.7->matplotlib->wordcloud) (1.16.0)\n"
     ]
    }
   ],
   "source": [
    "!pip install wordcloud"
   ]
  },
  {
   "cell_type": "code",
   "execution_count": 21,
   "id": "2ab6bbc5-32f7-46ea-baa0-9bd9f6114e72",
   "metadata": {},
   "outputs": [],
   "source": [
    "#LIBRARIES \n",
    "import pandas as pd\n",
    "import seaborn as sns\n",
    "sns.set_style('darkgrid')\n",
    "import matplotlib.pyplot as plt\n",
    "%matplotlib inline\n",
    "from wordcloud import WordCloud\n",
    "from textblob import TextBlob\n",
    "import nltk\n",
    "from nltk.corpus import stopwords\n",
    "from nltk.tokenize import word_tokenize\n",
    "from nltk.stem import  PorterStemmer \n",
    "import string\n",
    "import re\n",
    "import warnings\n",
    "warnings.simplefilter(\"ignore\")"
   ]
  },
  {
   "cell_type": "code",
   "execution_count": 22,
   "id": "654d117d-54f9-4474-97fb-c386f61da524",
   "metadata": {},
   "outputs": [],
   "source": [
    "#lOADING DATASET \n",
    "df = pd.read_csv(\"data and pickle files/updated_data.csv\",encoding=\"latin1\") #due to special charas should be encoded as latin 1\n",
    "#REMOVE MAX\n",
    "pd.set_option('display.max_columns', None)\n",
    "pd.set_option('display.max_rows', None)"
   ]
  },
  {
   "cell_type": "code",
   "execution_count": 23,
   "id": "42dbd5a6-275d-4968-b398-c3671921ac69",
   "metadata": {},
   "outputs": [
    {
     "data": {
      "text/html": [
       "<div>\n",
       "<style scoped>\n",
       "    .dataframe tbody tr th:only-of-type {\n",
       "        vertical-align: middle;\n",
       "    }\n",
       "\n",
       "    .dataframe tbody tr th {\n",
       "        vertical-align: top;\n",
       "    }\n",
       "\n",
       "    .dataframe thead th {\n",
       "        text-align: right;\n",
       "    }\n",
       "</style>\n",
       "<table border=\"1\" class=\"dataframe\">\n",
       "  <thead>\n",
       "    <tr style=\"text-align: right;\">\n",
       "      <th></th>\n",
       "      <th>Unnamed: 0</th>\n",
       "      <th>review_date</th>\n",
       "      <th>review_rating</th>\n",
       "      <th>review_title</th>\n",
       "      <th>review_text</th>\n",
       "      <th>verified_purchase</th>\n",
       "    </tr>\n",
       "  </thead>\n",
       "  <tbody>\n",
       "    <tr>\n",
       "      <th>0</th>\n",
       "      <td>0</td>\n",
       "      <td>1/1/2019</td>\n",
       "      <td>5</td>\n",
       "      <td>Dove MenÂs + Deodorant</td>\n",
       "      <td>As you get older, you know what you like and w...</td>\n",
       "      <td>True</td>\n",
       "    </tr>\n",
       "    <tr>\n",
       "      <th>1</th>\n",
       "      <td>1</td>\n",
       "      <td>1/2/2019</td>\n",
       "      <td>5</td>\n",
       "      <td>Great for a marmite lover!</td>\n",
       "      <td>Three gigantic marmite jars that will last pro...</td>\n",
       "      <td>True</td>\n",
       "    </tr>\n",
       "    <tr>\n",
       "      <th>2</th>\n",
       "      <td>2</td>\n",
       "      <td>1/2/2019</td>\n",
       "      <td>4</td>\n",
       "      <td>Vitamin B12.</td>\n",
       "      <td>Excellent</td>\n",
       "      <td>True</td>\n",
       "    </tr>\n",
       "    <tr>\n",
       "      <th>3</th>\n",
       "      <td>3</td>\n",
       "      <td>1/2/2019</td>\n",
       "      <td>5</td>\n",
       "      <td>A Very Handy Flavour Top - Up to Keep In The C...</td>\n",
       "      <td>A great flavour top - up for slow cooking.</td>\n",
       "      <td>True</td>\n",
       "    </tr>\n",
       "    <tr>\n",
       "      <th>4</th>\n",
       "      <td>4</td>\n",
       "      <td>1/2/2019</td>\n",
       "      <td>5</td>\n",
       "      <td>Very handy</td>\n",
       "      <td>Does what is says it does</td>\n",
       "      <td>False</td>\n",
       "    </tr>\n",
       "  </tbody>\n",
       "</table>\n",
       "</div>"
      ],
      "text/plain": [
       "   Unnamed: 0 review_date  review_rating  \\\n",
       "0           0    1/1/2019              5   \n",
       "1           1    1/2/2019              5   \n",
       "2           2    1/2/2019              4   \n",
       "3           3    1/2/2019              5   \n",
       "4           4    1/2/2019              5   \n",
       "\n",
       "                                        review_title  \\\n",
       "0                            Dove MenÂs + Deodorant   \n",
       "1                         Great for a marmite lover!   \n",
       "2                                       Vitamin B12.   \n",
       "3  A Very Handy Flavour Top - Up to Keep In The C...   \n",
       "4                                         Very handy   \n",
       "\n",
       "                                         review_text  verified_purchase  \n",
       "0  As you get older, you know what you like and w...               True  \n",
       "1  Three gigantic marmite jars that will last pro...               True  \n",
       "2                                          Excellent               True  \n",
       "3         A great flavour top - up for slow cooking.               True  \n",
       "4                          Does what is says it does              False  "
      ]
     },
     "execution_count": 23,
     "metadata": {},
     "output_type": "execute_result"
    }
   ],
   "source": [
    "df.head()"
   ]
  },
  {
   "cell_type": "code",
   "execution_count": 24,
   "id": "50602b68-a132-42cb-9b7c-f3460a3de461",
   "metadata": {},
   "outputs": [],
   "source": [
    "#DROPPING UNWANTED COLUMN\n",
    "df.drop(['Unnamed: 0'], axis=1, inplace=True)"
   ]
  },
  {
   "cell_type": "code",
   "execution_count": 25,
   "id": "33e728db-829a-47f2-b313-e9d7ade35b9e",
   "metadata": {},
   "outputs": [
    {
     "name": "stdout",
     "output_type": "stream",
     "text": [
      "<class 'pandas.core.frame.DataFrame'>\n",
      "RangeIndex: 2501 entries, 0 to 2500\n",
      "Data columns (total 5 columns):\n",
      " #   Column             Non-Null Count  Dtype \n",
      "---  ------             --------------  ----- \n",
      " 0   review_date        2501 non-null   object\n",
      " 1   review_rating      2501 non-null   int64 \n",
      " 2   review_title       2396 non-null   object\n",
      " 3   review_text        2501 non-null   object\n",
      " 4   verified_purchase  2501 non-null   bool  \n",
      "dtypes: bool(1), int64(1), object(3)\n",
      "memory usage: 80.7+ KB\n"
     ]
    }
   ],
   "source": [
    "df.info()"
   ]
  },
  {
   "cell_type": "code",
   "execution_count": 26,
   "id": "3fbcd818-0e6d-4bd5-843b-63e5359d383f",
   "metadata": {},
   "outputs": [
    {
     "name": "stdout",
     "output_type": "stream",
     "text": [
      "Number of duplicates in dataset:  783\n"
     ]
    }
   ],
   "source": [
    "#CHECK TOTAL DUPLICATE OCCURENCES\n",
    "dup = df.duplicated().sum()\n",
    "print(\"Number of duplicates in dataset: \", dup)"
   ]
  },
  {
   "cell_type": "code",
   "execution_count": 27,
   "id": "1221431e-19d3-4a75-b02d-ddb76ee3fc18",
   "metadata": {},
   "outputs": [
    {
     "name": "stdout",
     "output_type": "stream",
     "text": [
      "<class 'pandas.core.frame.DataFrame'>\n",
      "RangeIndex: 1718 entries, 0 to 1717\n",
      "Data columns (total 5 columns):\n",
      " #   Column             Non-Null Count  Dtype \n",
      "---  ------             --------------  ----- \n",
      " 0   review_date        1718 non-null   object\n",
      " 1   review_rating      1718 non-null   int64 \n",
      " 2   review_title       1650 non-null   object\n",
      " 3   review_text        1718 non-null   object\n",
      " 4   verified_purchase  1718 non-null   bool  \n",
      "dtypes: bool(1), int64(1), object(3)\n",
      "memory usage: 55.5+ KB\n"
     ]
    }
   ],
   "source": [
    "df = df.drop_duplicates().reset_index(drop=True)\n",
    "df.info()"
   ]
  },
  {
   "cell_type": "code",
   "execution_count": 28,
   "id": "769402ee-004a-456b-8f64-8bda98aa0b64",
   "metadata": {},
   "outputs": [
    {
     "data": {
      "text/plain": [
       "review_date           0\n",
       "review_rating         0\n",
       "review_title         68\n",
       "review_text           0\n",
       "verified_purchase     0\n",
       "dtype: int64"
      ]
     },
     "execution_count": 28,
     "metadata": {},
     "output_type": "execute_result"
    }
   ],
   "source": [
    "df.isnull().sum()"
   ]
  },
  {
   "cell_type": "code",
   "execution_count": 29,
   "id": "7049a66c-95f9-4e38-a96a-1b797af62956",
   "metadata": {},
   "outputs": [
    {
     "data": {
      "text/html": [
       "<div>\n",
       "<style scoped>\n",
       "    .dataframe tbody tr th:only-of-type {\n",
       "        vertical-align: middle;\n",
       "    }\n",
       "\n",
       "    .dataframe tbody tr th {\n",
       "        vertical-align: top;\n",
       "    }\n",
       "\n",
       "    .dataframe thead th {\n",
       "        text-align: right;\n",
       "    }\n",
       "</style>\n",
       "<table border=\"1\" class=\"dataframe\">\n",
       "  <thead>\n",
       "    <tr style=\"text-align: right;\">\n",
       "      <th></th>\n",
       "      <th>review_rating</th>\n",
       "      <th>review_text</th>\n",
       "      <th>verified_purchase</th>\n",
       "    </tr>\n",
       "  </thead>\n",
       "  <tbody>\n",
       "    <tr>\n",
       "      <th>0</th>\n",
       "      <td>5</td>\n",
       "      <td>As you get older, you know what you like and w...</td>\n",
       "      <td>True</td>\n",
       "    </tr>\n",
       "    <tr>\n",
       "      <th>1</th>\n",
       "      <td>5</td>\n",
       "      <td>Three gigantic marmite jars that will last pro...</td>\n",
       "      <td>True</td>\n",
       "    </tr>\n",
       "    <tr>\n",
       "      <th>2</th>\n",
       "      <td>4</td>\n",
       "      <td>Excellent</td>\n",
       "      <td>True</td>\n",
       "    </tr>\n",
       "    <tr>\n",
       "      <th>3</th>\n",
       "      <td>5</td>\n",
       "      <td>A great flavour top - up for slow cooking.</td>\n",
       "      <td>True</td>\n",
       "    </tr>\n",
       "    <tr>\n",
       "      <th>4</th>\n",
       "      <td>5</td>\n",
       "      <td>Does what is says it does</td>\n",
       "      <td>False</td>\n",
       "    </tr>\n",
       "  </tbody>\n",
       "</table>\n",
       "</div>"
      ],
      "text/plain": [
       "   review_rating                                        review_text  \\\n",
       "0              5  As you get older, you know what you like and w...   \n",
       "1              5  Three gigantic marmite jars that will last pro...   \n",
       "2              4                                          Excellent   \n",
       "3              5         A great flavour top - up for slow cooking.   \n",
       "4              5                          Does what is says it does   \n",
       "\n",
       "   verified_purchase  \n",
       "0               True  \n",
       "1               True  \n",
       "2               True  \n",
       "3               True  \n",
       "4              False  "
      ]
     },
     "execution_count": 29,
     "metadata": {},
     "output_type": "execute_result"
    }
   ],
   "source": [
    "# Check if the columns exist in the DataFrame\n",
    "columns_to_drop = ['review_title', 'review_date']\n",
    "\n",
    "for col in columns_to_drop:\n",
    "    if col not in df.columns:\n",
    "        print(f\"Column '{col}' not found in DataFrame.\")\n",
    "\n",
    "# Drop columns if they exist\n",
    "df.drop(columns=columns_to_drop, inplace=True, errors='ignore')\n",
    "df.head()\n"
   ]
  },
  {
   "cell_type": "code",
   "execution_count": 30,
   "id": "288c753a-3ea3-4544-b1df-220ec22f381d",
   "metadata": {},
   "outputs": [],
   "source": [
    "#WORD COUNT\n",
    "df['total words'] = df['review_text'].apply(lambda i: len(str(i).split(\" \")))\n",
    "\n",
    "#CHARACTER COUNT\n",
    "df['total characters'] = df['review_text'].str.len() #spaces are included\n",
    "\n",
    "#STOPWORDS COUNT\n",
    "sw = set(stopwords.words('english'))\n",
    "df['total stopwords'] = df['review_text'].str.split().apply(lambda i: len(set(i) & sw))\n",
    "\n",
    "#PUNCTUATION AND SPECIAL CHARA COUNT\n",
    "count_p = lambda p1,p2: sum([1 for i in p1 if i in p2])\n",
    "df['total punctuations'] = df.review_text.apply(lambda p: count_p(p, string.punctuation))\n",
    "\n",
    "#UPPERCASE CHARA COUNT\n",
    "df['total uppercases'] = df['review_text'].str.findall(r'[A-Z]').str.len() #findall - finds all"
   ]
  },
  {
   "cell_type": "code",
   "execution_count": 31,
   "id": "43ee26a2-41eb-4cd1-aaeb-dead711b5144",
   "metadata": {},
   "outputs": [
    {
     "data": {
      "text/html": [
       "<div>\n",
       "<style scoped>\n",
       "    .dataframe tbody tr th:only-of-type {\n",
       "        vertical-align: middle;\n",
       "    }\n",
       "\n",
       "    .dataframe tbody tr th {\n",
       "        vertical-align: top;\n",
       "    }\n",
       "\n",
       "    .dataframe thead th {\n",
       "        text-align: right;\n",
       "    }\n",
       "</style>\n",
       "<table border=\"1\" class=\"dataframe\">\n",
       "  <thead>\n",
       "    <tr style=\"text-align: right;\">\n",
       "      <th></th>\n",
       "      <th>review_rating</th>\n",
       "      <th>review_text</th>\n",
       "      <th>verified_purchase</th>\n",
       "      <th>total words</th>\n",
       "      <th>total characters</th>\n",
       "      <th>total stopwords</th>\n",
       "      <th>total punctuations</th>\n",
       "      <th>total uppercases</th>\n",
       "    </tr>\n",
       "  </thead>\n",
       "  <tbody>\n",
       "    <tr>\n",
       "      <th>0</th>\n",
       "      <td>5</td>\n",
       "      <td>As you get older, you know what you like and w...</td>\n",
       "      <td>True</td>\n",
       "      <td>39</td>\n",
       "      <td>202</td>\n",
       "      <td>10</td>\n",
       "      <td>7</td>\n",
       "      <td>5</td>\n",
       "    </tr>\n",
       "    <tr>\n",
       "      <th>1</th>\n",
       "      <td>5</td>\n",
       "      <td>Three gigantic marmite jars that will last pro...</td>\n",
       "      <td>True</td>\n",
       "      <td>30</td>\n",
       "      <td>175</td>\n",
       "      <td>7</td>\n",
       "      <td>6</td>\n",
       "      <td>4</td>\n",
       "    </tr>\n",
       "    <tr>\n",
       "      <th>2</th>\n",
       "      <td>4</td>\n",
       "      <td>Excellent</td>\n",
       "      <td>True</td>\n",
       "      <td>1</td>\n",
       "      <td>9</td>\n",
       "      <td>0</td>\n",
       "      <td>0</td>\n",
       "      <td>1</td>\n",
       "    </tr>\n",
       "    <tr>\n",
       "      <th>3</th>\n",
       "      <td>5</td>\n",
       "      <td>A great flavour top - up for slow cooking.</td>\n",
       "      <td>True</td>\n",
       "      <td>9</td>\n",
       "      <td>42</td>\n",
       "      <td>2</td>\n",
       "      <td>2</td>\n",
       "      <td>1</td>\n",
       "    </tr>\n",
       "    <tr>\n",
       "      <th>4</th>\n",
       "      <td>5</td>\n",
       "      <td>Does what is says it does</td>\n",
       "      <td>False</td>\n",
       "      <td>6</td>\n",
       "      <td>25</td>\n",
       "      <td>4</td>\n",
       "      <td>0</td>\n",
       "      <td>1</td>\n",
       "    </tr>\n",
       "  </tbody>\n",
       "</table>\n",
       "</div>"
      ],
      "text/plain": [
       "   review_rating                                        review_text  \\\n",
       "0              5  As you get older, you know what you like and w...   \n",
       "1              5  Three gigantic marmite jars that will last pro...   \n",
       "2              4                                          Excellent   \n",
       "3              5         A great flavour top - up for slow cooking.   \n",
       "4              5                          Does what is says it does   \n",
       "\n",
       "   verified_purchase  total words  total characters  total stopwords  \\\n",
       "0               True           39               202               10   \n",
       "1               True           30               175                7   \n",
       "2               True            1                 9                0   \n",
       "3               True            9                42                2   \n",
       "4              False            6                25                4   \n",
       "\n",
       "   total punctuations  total uppercases  \n",
       "0                   7                 5  \n",
       "1                   6                 4  \n",
       "2                   0                 1  \n",
       "3                   2                 1  \n",
       "4                   0                 1  "
      ]
     },
     "execution_count": 31,
     "metadata": {},
     "output_type": "execute_result"
    }
   ],
   "source": [
    "df.head() #UPDATED"
   ]
  },
  {
   "cell_type": "code",
   "execution_count": 32,
   "id": "f29031db-92de-435a-afca-92312b1fcb61",
   "metadata": {},
   "outputs": [
    {
     "data": {
      "text/html": [
       "<div>\n",
       "<style scoped>\n",
       "    .dataframe tbody tr th:only-of-type {\n",
       "        vertical-align: middle;\n",
       "    }\n",
       "\n",
       "    .dataframe tbody tr th {\n",
       "        vertical-align: top;\n",
       "    }\n",
       "\n",
       "    .dataframe thead th {\n",
       "        text-align: right;\n",
       "    }\n",
       "</style>\n",
       "<table border=\"1\" class=\"dataframe\">\n",
       "  <thead>\n",
       "    <tr style=\"text-align: right;\">\n",
       "      <th></th>\n",
       "      <th>review_rating</th>\n",
       "      <th>total words</th>\n",
       "      <th>total characters</th>\n",
       "      <th>total stopwords</th>\n",
       "      <th>total punctuations</th>\n",
       "      <th>total uppercases</th>\n",
       "    </tr>\n",
       "  </thead>\n",
       "  <tbody>\n",
       "    <tr>\n",
       "      <th>count</th>\n",
       "      <td>1718.000000</td>\n",
       "      <td>1718.000000</td>\n",
       "      <td>1718.000000</td>\n",
       "      <td>1718.000000</td>\n",
       "      <td>1718.000000</td>\n",
       "      <td>1718.000000</td>\n",
       "    </tr>\n",
       "    <tr>\n",
       "      <th>mean</th>\n",
       "      <td>4.441793</td>\n",
       "      <td>33.198487</td>\n",
       "      <td>177.890570</td>\n",
       "      <td>9.257276</td>\n",
       "      <td>4.434226</td>\n",
       "      <td>3.710128</td>\n",
       "    </tr>\n",
       "    <tr>\n",
       "      <th>std</th>\n",
       "      <td>1.123083</td>\n",
       "      <td>35.251879</td>\n",
       "      <td>189.818467</td>\n",
       "      <td>8.537092</td>\n",
       "      <td>5.177685</td>\n",
       "      <td>4.209264</td>\n",
       "    </tr>\n",
       "    <tr>\n",
       "      <th>min</th>\n",
       "      <td>1.000000</td>\n",
       "      <td>1.000000</td>\n",
       "      <td>2.000000</td>\n",
       "      <td>0.000000</td>\n",
       "      <td>0.000000</td>\n",
       "      <td>0.000000</td>\n",
       "    </tr>\n",
       "    <tr>\n",
       "      <th>25%</th>\n",
       "      <td>4.000000</td>\n",
       "      <td>7.000000</td>\n",
       "      <td>41.000000</td>\n",
       "      <td>2.000000</td>\n",
       "      <td>1.000000</td>\n",
       "      <td>1.000000</td>\n",
       "    </tr>\n",
       "    <tr>\n",
       "      <th>50%</th>\n",
       "      <td>5.000000</td>\n",
       "      <td>21.000000</td>\n",
       "      <td>114.500000</td>\n",
       "      <td>7.000000</td>\n",
       "      <td>3.000000</td>\n",
       "      <td>2.000000</td>\n",
       "    </tr>\n",
       "    <tr>\n",
       "      <th>75%</th>\n",
       "      <td>5.000000</td>\n",
       "      <td>50.000000</td>\n",
       "      <td>268.750000</td>\n",
       "      <td>15.000000</td>\n",
       "      <td>7.000000</td>\n",
       "      <td>5.000000</td>\n",
       "    </tr>\n",
       "    <tr>\n",
       "      <th>max</th>\n",
       "      <td>5.000000</td>\n",
       "      <td>287.000000</td>\n",
       "      <td>1624.000000</td>\n",
       "      <td>48.000000</td>\n",
       "      <td>42.000000</td>\n",
       "      <td>54.000000</td>\n",
       "    </tr>\n",
       "  </tbody>\n",
       "</table>\n",
       "</div>"
      ],
      "text/plain": [
       "       review_rating  total words  total characters  total stopwords  \\\n",
       "count    1718.000000  1718.000000       1718.000000      1718.000000   \n",
       "mean        4.441793    33.198487        177.890570         9.257276   \n",
       "std         1.123083    35.251879        189.818467         8.537092   \n",
       "min         1.000000     1.000000          2.000000         0.000000   \n",
       "25%         4.000000     7.000000         41.000000         2.000000   \n",
       "50%         5.000000    21.000000        114.500000         7.000000   \n",
       "75%         5.000000    50.000000        268.750000        15.000000   \n",
       "max         5.000000   287.000000       1624.000000        48.000000   \n",
       "\n",
       "       total punctuations  total uppercases  \n",
       "count         1718.000000       1718.000000  \n",
       "mean             4.434226          3.710128  \n",
       "std              5.177685          4.209264  \n",
       "min              0.000000          0.000000  \n",
       "25%              1.000000          1.000000  \n",
       "50%              3.000000          2.000000  \n",
       "75%              7.000000          5.000000  \n",
       "max             42.000000         54.000000  "
      ]
     },
     "execution_count": 32,
     "metadata": {},
     "output_type": "execute_result"
    }
   ],
   "source": [
    "df.describe()"
   ]
  },
  {
   "cell_type": "code",
   "execution_count": 33,
   "id": "85c6f6a3-2a26-4f66-a39d-397c85d2f3be",
   "metadata": {},
   "outputs": [
    {
     "name": "stdout",
     "output_type": "stream",
     "text": [
      "                  review_rating                                               \\\n",
      "                          count      mean       std  min  25%  50%  75%  max   \n",
      "verified_purchase                                                              \n",
      "False                     900.0  4.315556  1.187805  1.0  4.0  5.0  5.0  5.0   \n",
      "True                      818.0  4.580685  1.030249  1.0  5.0  5.0  5.0  5.0   \n",
      "\n",
      "                  total words                                               \\\n",
      "                        count       mean        std  min   25%   50%   75%   \n",
      "verified_purchase                                                            \n",
      "False                   900.0  50.271111  36.854098  1.0  23.0  48.0  63.0   \n",
      "True                    818.0  14.414425  21.041211  1.0   3.0   8.0  17.0   \n",
      "\n",
      "                         total characters                                      \\\n",
      "                     max            count        mean         std  min    25%   \n",
      "verified_purchase                                                               \n",
      "False              282.0            900.0  268.920000  199.070130  4.0  126.0   \n",
      "True               287.0            818.0   77.735941  113.775095  2.0   18.0   \n",
      "\n",
      "                                         total stopwords                       \\\n",
      "                     50%     75%     max           count       mean       std   \n",
      "verified_purchase                                                               \n",
      "False              247.0  335.00  1541.0           900.0  13.838889  8.256163   \n",
      "True                44.5   90.75  1624.0           818.0   4.216381  5.440307   \n",
      "\n",
      "                                              total punctuations            \\\n",
      "                   min  25%   50%   75%   max              count      mean   \n",
      "verified_purchase                                                            \n",
      "False              0.0  8.0  14.0  19.0  48.0              900.0  6.837778   \n",
      "True               0.0  0.0   2.0   6.0  44.0              818.0  1.789731   \n",
      "\n",
      "                                                      total uppercases  \\\n",
      "                        std  min  25%  50%  75%   max            count   \n",
      "verified_purchase                                                        \n",
      "False              5.607709  0.0  3.0  6.0  9.0  42.0            900.0   \n",
      "True               2.893422  0.0  0.0  1.0  3.0  28.0            818.0   \n",
      "\n",
      "                                                                 \n",
      "                       mean       std  min  25%  50%  75%   max  \n",
      "verified_purchase                                                \n",
      "False              5.143333  4.467720  0.0  2.0  4.0  7.0  54.0  \n",
      "True               2.133252  3.243386  0.0  1.0  1.0  2.0  52.0  \n"
     ]
    }
   ],
   "source": [
    "print(df.groupby(\"verified_purchase\").describe())"
   ]
  },
  {
   "cell_type": "code",
   "execution_count": 34,
   "id": "deb74014-52e4-477b-9abc-ca2060d6f762",
   "metadata": {},
   "outputs": [
    {
     "data": {
      "image/png": "[encoded data removed]",
      "text/plain": [
       "<Figure size 400x400 with 1 Axes>"
      ]
     },
     "metadata": {},
     "output_type": "display_data"
    }
   ],
   "source": [
    "# Import necessary libraries\n",
    "import pandas as pd\n",
    "import seaborn as sns\n",
    "sns.set_style('darkgrid')\n",
    "import matplotlib.pyplot as plt  # Add this import statement\n",
    "%matplotlib inline\n",
    "from wordcloud import WordCloud\n",
    "from textblob import TextBlob\n",
    "import nltk\n",
    "from nltk.corpus import stopwords\n",
    "from nltk.tokenize import word_tokenize\n",
    "from nltk.stem import PorterStemmer \n",
    "import string\n",
    "import re\n",
    "import warnings\n",
    "warnings.simplefilter(\"ignore\")\n",
    "\n",
    "# Your existing code\n",
    "# ...\n",
    "\n",
    "# PIE CHART ON VERIFIED PURCHASES\n",
    "colors = ['#FED8B1', '#79BAEC']\n",
    "plt.figure(figsize=(4, 4))\n",
    "label = df['verified_purchase'].value_counts()\n",
    "plt.pie(label.values, colors=colors, labels=label.index, autopct='%1.1f%%', startangle=90)\n",
    "plt.title('True and False Reviews Count', fontsize=15)\n",
    "plt.show()\n"
   ]
  },
  {
   "cell_type": "code",
   "execution_count": 35,
   "id": "a043fd0a-2a80-47c1-b753-27208a8d222d",
   "metadata": {},
   "outputs": [
    {
     "data": {
      "text/plain": [
       "Text(0.5, 1.0, 'Review_Rating Grouped by Verified_Purchase')"
      ]
     },
     "execution_count": 35,
     "metadata": {},
     "output_type": "execute_result"
    },
    {
     "data": {
      "image/png": "[encoded data removed]",
      "text/plain": [
       "<Figure size 620.986x500 with 1 Axes>"
      ]
     },
     "metadata": {},
     "output_type": "display_data"
    }
   ],
   "source": [
    "sns.catplot(x ='review_rating',kind=\"count\", hue=\"verified_purchase\", data=df)\n",
    "plt.xlabel(\"review_rating\")\n",
    "plt.ylabel(\"count of reviews\")\n",
    "plt.title(\"Review_Rating Grouped by Verified_Purchase\")"
   ]
  },
  {
   "cell_type": "code",
   "execution_count": 36,
   "id": "a5abba2d-6fca-401b-bca9-05e9d322cb6f",
   "metadata": {},
   "outputs": [
    {
     "data": {
      "image/png": "[encoded data removed]",
      "text/plain": [
       "<Figure size 640x480 with 1 Axes>"
      ]
     },
     "metadata": {},
     "output_type": "display_data"
    }
   ],
   "source": [
    "# Assuming 'df' is your DataFrame and 'verified_purchase' is a boolean column\n",
    "\n",
    "cols = [\"verified_purchase\", \"review_text\"]\n",
    "vprt = df[cols]\n",
    "\n",
    "# Filtering based on True and False VP\n",
    "checkTrue = vprt[\"verified_purchase\"] == True\n",
    "filtered_true = vprt[checkTrue]\n",
    "\n",
    "checkFalse = vprt[\"verified_purchase\"] == False\n",
    "filtered_false = vprt[checkFalse]\n",
    "\n",
    "# Average review length based on True and False VP\n",
    "false_average_length = filtered_false[\"review_text\"].apply(len).mean()\n",
    "true_average_length = filtered_true[\"review_text\"].apply(len).mean()\n",
    "\n",
    "# Plotting the graph\n",
    "data = pd.DataFrame({'verified_purchases': ['True', 'False'], 'average_length': [true_average_length, false_average_length]})\n",
    "sns.barplot(x='average_length', y='verified_purchases', data=data)\n",
    "plt.xlabel(\"Average Length of Reviews\")\n",
    "plt.ylabel(\"Verified Purchases\")\n",
    "plt.title(\"Average Length of Reviews based on Verified Purchases\")\n",
    "plt.show()\n"
   ]
  },
  {
   "cell_type": "code",
   "execution_count": 37,
   "id": "cfb1e4cd-391a-4fb2-8b6d-22fe2ae846c0",
   "metadata": {},
   "outputs": [
    {
     "data": {
      "text/html": [
       "<div>\n",
       "<style scoped>\n",
       "    .dataframe tbody tr th:only-of-type {\n",
       "        vertical-align: middle;\n",
       "    }\n",
       "\n",
       "    .dataframe tbody tr th {\n",
       "        vertical-align: top;\n",
       "    }\n",
       "\n",
       "    .dataframe thead th {\n",
       "        text-align: right;\n",
       "    }\n",
       "</style>\n",
       "<table border=\"1\" class=\"dataframe\">\n",
       "  <thead>\n",
       "    <tr style=\"text-align: right;\">\n",
       "      <th></th>\n",
       "      <th>review_text</th>\n",
       "      <th>verified_purchase</th>\n",
       "    </tr>\n",
       "  </thead>\n",
       "  <tbody>\n",
       "    <tr>\n",
       "      <th>0</th>\n",
       "      <td>As you get older, you know what you like and w...</td>\n",
       "      <td>True</td>\n",
       "    </tr>\n",
       "    <tr>\n",
       "      <th>1</th>\n",
       "      <td>Three gigantic marmite jars that will last pro...</td>\n",
       "      <td>True</td>\n",
       "    </tr>\n",
       "    <tr>\n",
       "      <th>2</th>\n",
       "      <td>Excellent</td>\n",
       "      <td>True</td>\n",
       "    </tr>\n",
       "    <tr>\n",
       "      <th>3</th>\n",
       "      <td>A great flavour top - up for slow cooking.</td>\n",
       "      <td>True</td>\n",
       "    </tr>\n",
       "    <tr>\n",
       "      <th>4</th>\n",
       "      <td>Does what is says it does</td>\n",
       "      <td>False</td>\n",
       "    </tr>\n",
       "  </tbody>\n",
       "</table>\n",
       "</div>"
      ],
      "text/plain": [
       "                                         review_text  verified_purchase\n",
       "0  As you get older, you know what you like and w...               True\n",
       "1  Three gigantic marmite jars that will last pro...               True\n",
       "2                                          Excellent               True\n",
       "3         A great flavour top - up for slow cooking.               True\n",
       "4                          Does what is says it does              False"
      ]
     },
     "execution_count": 37,
     "metadata": {},
     "output_type": "execute_result"
    }
   ],
   "source": [
    "#DROP UNNECESSARY COLUMNS\n",
    "df.drop([\"total words\",\"total characters\",\n",
    "         \"total stopwords\",\"total punctuations\",\n",
    "         \"total uppercases\",\"review_rating\"], axis=1, inplace=True)\n",
    "df.head()"
   ]
  },
  {
   "cell_type": "code",
   "execution_count": 38,
   "id": "37f562d7-449c-4aab-8d3b-64df05a86755",
   "metadata": {},
   "outputs": [],
   "source": [
    "from textblob import TextBlob\n",
    "\n",
    "# Assuming df is your DataFrame with a column named 'review_text'\n",
    "df['review_text'] = df['review_text'].apply(lambda i: ''.join(TextBlob(i).correct()))\n"
   ]
  },
  {
   "cell_type": "code",
   "execution_count": null,
   "id": "496f8465-79e9-4de9-a13f-6952ce6308e4",
   "metadata": {},
   "outputs": [],
   "source": []
  }
 ],
 "metadata": {
  "kernelspec": {
   "display_name": "Python 3 (ipykernel)",
   "language": "python",
   "name": "python3"
  },
  "language_info": {
   "codemirror_mode": {
    "name": "ipython",
    "version": 3
   },
   "file_extension": ".py",
   "mimetype": "text/x-python",
   "name": "python",
   "nbconvert_exporter": "python",
   "pygments_lexer": "ipython3",
   "version": "3.11.5"
  }
 },
 "nbformat": 4,
 "nbformat_minor": 5
}
